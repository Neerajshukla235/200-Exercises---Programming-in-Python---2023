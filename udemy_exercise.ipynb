{
  "nbformat": 4,
  "nbformat_minor": 0,
  "metadata": {
    "colab": {
      "provenance": [],
      "authorship_tag": "ABX9TyM/+Swpr/nvuZKof8NiyxRH",
      "include_colab_link": true
    },
    "kernelspec": {
      "name": "python3",
      "display_name": "Python 3"
    },
    "language_info": {
      "name": "python"
    }
  },
  "cells": [
    {
      "cell_type": "markdown",
      "metadata": {
        "id": "view-in-github",
        "colab_type": "text"
      },
      "source": [
        "<a href=\"https://colab.research.google.com/github/Neerajshukla235/200-Exercises---Programming-in-Python---2023/blob/main/udemy_exercise.ipynb\" target=\"_parent\"><img src=\"https://colab.research.google.com/assets/colab-badge.svg\" alt=\"Open In Colab\"/></a>"
      ]
    },
    {
      "cell_type": "code",
      "execution_count": 2,
      "metadata": {
        "id": "_XiX6o0GCj2n",
        "colab": {
          "base_uri": "https://localhost:8080/"
        },
        "outputId": "fe0a405c-401d-48f3-d565-7bebdaaf890a"
      },
      "outputs": [
        {
          "output_type": "stream",
          "name": "stdout",
          "text": [
            "Learn Python!\n"
          ]
        }
      ],
      "source": [
        "# Using the print() function, print to the console: 'Learn Python!'\n",
        "\n",
        "print('Learn Python!')"
      ]
    },
    {
      "cell_type": "code",
      "source": [
        "#Exercise 2\n",
        "#Assign to the variable age number 20. \n",
        "#Using the age variable and the print() function print to the console the following text:\n",
        "#I am 20 years old.\n",
        "\n",
        "\n",
        "age=20\n",
        "\n",
        "print(\"I am\", age,\"years old.\")"
      ],
      "metadata": {
        "colab": {
          "base_uri": "https://localhost:8080/"
        },
        "id": "_auvwIX7ESTb",
        "outputId": "34aa16fc-9b58-4c74-de3f-b630f5b92c3d"
      },
      "execution_count": 8,
      "outputs": [
        {
          "output_type": "stream",
          "name": "stdout",
          "text": [
            "I am 20 years old.\n"
          ]
        }
      ]
    },
    {
      "cell_type": "code",
      "source": [
        "#Create two variables (you can freely choose the names) and assign to them following values:\n",
        "#'Python'\n",
        "#'3.8'\n",
        "#Using these variables and the print() function, print to the console the following text:\n",
        "#I am learning Python version 3.8\n",
        "\n",
        "\n",
        "a='Python'\n",
        "b='3.8'\n",
        "print(\"I am learning\",a, \"version\",b)\n",
        "\n",
        "##Solution 2\n",
        "\n",
        "lang = 'Python'\n",
        "version = '3.8'\n",
        "print(f'I am learning {lang} version {version}')"
      ],
      "metadata": {
        "colab": {
          "base_uri": "https://localhost:8080/"
        },
        "id": "mgCQK07QE2YR",
        "outputId": "bf250574-0ab7-4c50-d1dc-b8c48c63c485"
      },
      "execution_count": 12,
      "outputs": [
        {
          "output_type": "stream",
          "name": "stdout",
          "text": [
            "I am learning Python version 3.8\n",
            "I am learning Python version 3.8\n"
          ]
        }
      ]
    },
    {
      "cell_type": "code",
      "source": [
        "#Exercise 4\n",
        "#Assign 199.99 to the price variable and check the solution.\n",
        "\n",
        "#Expected result:\n",
        "#This costs 199.99\n",
        "\n",
        "'''price = \n",
        "print('This costs', price)'''\n",
        "\n",
        "price=199.89\n",
        "print('This costs', price)"
      ],
      "metadata": {
        "id": "_Ee9P8NGIJ7g",
        "outputId": "4fedc246-30c7-4ba3-cd6f-638449e2188b",
        "colab": {
          "base_uri": "https://localhost:8080/"
        }
      },
      "execution_count": 13,
      "outputs": [
        {
          "output_type": "stream",
          "name": "stdout",
          "text": [
            "This costs 199.89\n"
          ]
        }
      ]
    },
    {
      "cell_type": "code",
      "source": [],
      "metadata": {
        "id": "MsU-o56bJKYB"
      },
      "execution_count": null,
      "outputs": []
    }
  ]
}