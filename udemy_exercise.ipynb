{
  "nbformat": 4,
  "nbformat_minor": 0,
  "metadata": {
    "colab": {
      "provenance": [],
      "authorship_tag": "ABX9TyOEi1OdOarCZDTOjrgD3/WK",
      "include_colab_link": true
    },
    "kernelspec": {
      "name": "python3",
      "display_name": "Python 3"
    },
    "language_info": {
      "name": "python"
    }
  },
  "cells": [
    {
      "cell_type": "markdown",
      "metadata": {
        "id": "view-in-github",
        "colab_type": "text"
      },
      "source": [
        "<a href=\"https://colab.research.google.com/github/Neerajshukla235/200-Exercises---Programming-in-Python---2023/blob/main/udemy_exercise.ipynb\" target=\"_parent\"><img src=\"https://colab.research.google.com/assets/colab-badge.svg\" alt=\"Open In Colab\"/></a>"
      ]
    },
    {
      "cell_type": "code",
      "execution_count": 14,
      "metadata": {
        "id": "_XiX6o0GCj2n"
      },
      "outputs": [],
      "source": [
        "# Using the print() function, print to the console: 'Learn Python!'\n",
        "\n"
      ]
    },
    {
      "cell_type": "code",
      "source": [
        "#Exercise 2\n",
        "#Assign to the variable age number 20. \n",
        "#Using the age variable and the print() function print to the console the following text:\n",
        "#I am 20 years old.\n",
        "\n"
      ],
      "metadata": {
        "id": "_auvwIX7ESTb"
      },
      "execution_count": 15,
      "outputs": []
    },
    {
      "cell_type": "code",
      "source": [
        "#Create two variables (you can freely choose the names) and assign to them following values:\n",
        "#'Python'\n",
        "#'3.8'\n",
        "#Using these variables and the print() function, print to the console the following text:\n",
        "#I am learning Python version 3.8\n",
        "\n",
        "\n"
      ],
      "metadata": {
        "id": "mgCQK07QE2YR"
      },
      "execution_count": 16,
      "outputs": []
    },
    {
      "cell_type": "code",
      "source": [
        "#Exercise 4\n",
        "#Assign 199.99 to the price variable and check the solution.\n",
        "\n",
        "#Expected result:\n",
        "#This costs 199.99\n",
        "\n",
        "'''price = \n",
        "print('This costs', price)'''\n",
        "\n"
      ],
      "metadata": {
        "colab": {
          "base_uri": "https://localhost:8080/",
          "height": 35
        },
        "id": "_Ee9P8NGIJ7g",
        "outputId": "82140c7d-c939-480d-a4f3-4c41acf7a616"
      },
      "execution_count": 17,
      "outputs": [
        {
          "output_type": "execute_result",
          "data": {
            "text/plain": [
              "\"price = \\nprint('This costs', price)\""
            ],
            "application/vnd.google.colaboratory.intrinsic+json": {
              "type": "string"
            }
          },
          "metadata": {},
          "execution_count": 17
        }
      ]
    },
    {
      "cell_type": "code",
      "source": [],
      "metadata": {
        "id": "MsU-o56bJKYB"
      },
      "execution_count": 17,
      "outputs": []
    }
  ]
}