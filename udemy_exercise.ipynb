{
  "nbformat": 4,
  "nbformat_minor": 0,
  "metadata": {
    "colab": {
      "provenance": [],
      "authorship_tag": "ABX9TyONq+6ywSif77WgPaO/W7ba",
      "include_colab_link": true
    },
    "kernelspec": {
      "name": "python3",
      "display_name": "Python 3"
    },
    "language_info": {
      "name": "python"
    }
  },
  "cells": [
    {
      "cell_type": "markdown",
      "metadata": {
        "id": "view-in-github",
        "colab_type": "text"
      },
      "source": [
        "<a href=\"https://colab.research.google.com/github/Neerajshukla235/200-Exercises---Programming-in-Python---2023/blob/main/udemy_exercise.ipynb\" target=\"_parent\"><img src=\"https://colab.research.google.com/assets/colab-badge.svg\" alt=\"Open In Colab\"/></a>"
      ]
    },
    {
      "cell_type": "code",
      "execution_count": 2,
      "metadata": {
        "id": "_XiX6o0GCj2n",
        "outputId": "fe0a405c-401d-48f3-d565-7bebdaaf890a",
        "colab": {
          "base_uri": "https://localhost:8080/"
        }
      },
      "outputs": [
        {
          "output_type": "stream",
          "name": "stdout",
          "text": [
            "Learn Python!\n"
          ]
        }
      ],
      "source": [
        "# Using the print() function, print to the console: 'Learn Python!'\n",
        "\n",
        "print('Learn Python!')"
      ]
    },
    {
      "cell_type": "code",
      "source": [
        "#Exercise 2\n",
        "#Assign to the variable age number 20. \n",
        "#Using the age variable and the print() function print to the console the following text:\n",
        "#I am 20 years old.\n",
        "\n",
        "\n",
        "age=20\n",
        "\n",
        "print(\"I am\", age,\"years old.\")"
      ],
      "metadata": {
        "id": "_auvwIX7ESTb",
        "outputId": "34aa16fc-9b58-4c74-de3f-b630f5b92c3d",
        "colab": {
          "base_uri": "https://localhost:8080/"
        }
      },
      "execution_count": 8,
      "outputs": [
        {
          "output_type": "stream",
          "name": "stdout",
          "text": [
            "I am 20 years old.\n"
          ]
        }
      ]
    },
    {
      "cell_type": "code",
      "source": [
        "#Create two variables (you can freely choose the names) and assign to them following values:\n",
        "#Using these variables and the print() function, print to the console the following text:\n",
        "'''I am learning Python version 3.8'''\n",
        "\n"
      ],
      "metadata": {
        "id": "mgCQK07QE2YR"
      },
      "execution_count": null,
      "outputs": []
    }
  ]
}