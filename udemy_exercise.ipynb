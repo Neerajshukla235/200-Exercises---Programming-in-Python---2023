{
  "nbformat": 4,
  "nbformat_minor": 0,
  "metadata": {
    "colab": {
      "provenance": [],
      "authorship_tag": "ABX9TyP7wy3CLUjmDrfGjrRylZ6q",
      "include_colab_link": true
    },
    "kernelspec": {
      "name": "python3",
      "display_name": "Python 3"
    },
    "language_info": {
      "name": "python"
    }
  },
  "cells": [
    {
      "cell_type": "markdown",
      "metadata": {
        "id": "view-in-github",
        "colab_type": "text"
      },
      "source": [
        "<a href=\"https://colab.research.google.com/github/Neerajshukla235/200-Exercises---Programming-in-Python---2023/blob/main/udemy_exercise.ipynb\" target=\"_parent\"><img src=\"https://colab.research.google.com/assets/colab-badge.svg\" alt=\"Open In Colab\"/></a>"
      ]
    },
    {
      "cell_type": "code",
      "execution_count": 14,
      "metadata": {
        "id": "_XiX6o0GCj2n"
      },
      "outputs": [],
      "source": [
        "# Using the print() function, print to the console: 'Learn Python!'\n",
        "\n"
      ]
    },
    {
      "cell_type": "code",
      "source": [
        "#Exercise 2\n",
        "#Assign to the variable age number 20. \n",
        "#Using the age variable and the print() function print to the console the following text:\n",
        "#I am 20 years old.\n",
        "\n"
      ],
      "metadata": {
        "id": "_auvwIX7ESTb"
      },
      "execution_count": 15,
      "outputs": []
    },
    {
      "cell_type": "code",
      "source": [
        "#Create two variables (you can freely choose the names) and assign to them following values:\n",
        "#'Python'\n",
        "#'3.8'\n",
        "#Using these variables and the print() function, print to the console the following text:\n",
        "#I am learning Python version 3.8\n",
        "\n",
        "\n"
      ],
      "metadata": {
        "id": "mgCQK07QE2YR"
      },
      "execution_count": 16,
      "outputs": []
    },
    {
      "cell_type": "code",
      "source": [
        "#Exercise 4\n",
        "#Assign 199.99 to the price variable and check the solution.\n",
        "\n",
        "#Expected result:\n",
        "#This costs 199.99\n",
        "\n",
        "'''price = \n",
        "print('This costs', price)'''\n",
        "\n"
      ],
      "metadata": {
        "colab": {
          "base_uri": "https://localhost:8080/",
          "height": 35
        },
        "id": "_Ee9P8NGIJ7g",
        "outputId": "82140c7d-c939-480d-a4f3-4c41acf7a616"
      },
      "execution_count": 17,
      "outputs": [
        {
          "output_type": "execute_result",
          "data": {
            "text/plain": [
              "\"price = \\nprint('This costs', price)\""
            ],
            "application/vnd.google.colaboratory.intrinsic+json": {
              "type": "string"
            }
          },
          "metadata": {},
          "execution_count": 17
        }
      ]
    },
    {
      "cell_type": "code",
      "source": [
        "#Exercise 5\n",
        "#Assign 69.99 to the price variable and check the solution.\n",
        "#Expected result:\n",
        "#This costs 69.99\n",
        "'''price = \n",
        "print(f'This costs {price}')'''\n"
      ],
      "metadata": {
        "colab": {
          "base_uri": "https://localhost:8080/",
          "height": 35
        },
        "id": "MsU-o56bJKYB",
        "outputId": "d2e44a48-baf8-4ff7-8223-2a3316ffb12e"
      },
      "execution_count": 18,
      "outputs": [
        {
          "output_type": "execute_result",
          "data": {
            "text/plain": [
              "\"price = \\nprint(f'This costs {price}')\""
            ],
            "application/vnd.google.colaboratory.intrinsic+json": {
              "type": "string"
            }
          },
          "metadata": {},
          "execution_count": 18
        }
      ]
    },
    {
      "cell_type": "code",
      "source": [
        "#Exercise 6\n",
        "#Assign two variables that store the following values:\n",
        "#$ 34.99 - product price (float)\n",
        "#20 lbs - product weight (int)\n",
        "#Using the f-string formatting style print to the console the following message:\n",
        "#Price: $34.99. Weight: 20 lbs.\n"
      ],
      "metadata": {
        "id": "tDvQ9I2pKKYS"
      },
      "execution_count": 19,
      "outputs": []
    },
    {
      "cell_type": "code",
      "source": [
        "#Exercise 7\n",
        "#Below is an approximation of pi:\n",
        "#pi = 3.1415926535\n",
        "#Using f-string formatting, print the approximation of pi to two decimal places as shown below.\n",
        "#Expected result:\n",
        "#Pi: 3.14"
      ],
      "metadata": {
        "id": "FoeUOrRgK8Nw"
      },
      "execution_count": 20,
      "outputs": []
    },
    {
      "cell_type": "code",
      "source": [
        "#Exercise 8\n",
        "#Using three print() function (one line - one function) print the following text:\n",
        "#----------------------------------------\n",
        "#VERSION: 1.0.1\n",
        "#----------------------------------------\n",
        "#Tip: The lines consist of 40 dash characters: '-'.\n",
        "\n"
      ],
      "metadata": {
        "id": "o-3SgjG8LDXx"
      },
      "execution_count": 21,
      "outputs": []
    },
    {
      "cell_type": "code",
      "source": [
        "#Exercise 10\n",
        "#Using the print() function and the sep argument set to '#' print the following text:\n",
        "#'summer#time#holiday'"
      ],
      "metadata": {
        "id": "LSGn2l5dLte_"
      },
      "execution_count": 22,
      "outputs": []
    },
    {
      "cell_type": "code",
      "source": [],
      "metadata": {
        "id": "2OXXziNyMoPI"
      },
      "execution_count": null,
      "outputs": []
    }
  ]
}